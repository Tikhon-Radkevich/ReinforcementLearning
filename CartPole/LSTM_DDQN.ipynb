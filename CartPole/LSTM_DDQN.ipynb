{
 "cells": [
  {
   "cell_type": "markdown",
   "source": [
    "# Setup"
   ],
   "metadata": {
    "collapsed": false
   },
   "id": "aa18065fab17cba1"
  },
  {
   "cell_type": "code",
   "execution_count": 1,
   "outputs": [],
   "source": [
    "import torch\n",
    "import tqdm\n",
    "from tensordict.nn import TensorDictModule as Mod, TensorDictSequential as Seq\n",
    "from torch import nn\n",
    "from torchrl.collectors import SyncDataCollector\n",
    "from torchrl.data import LazyMemmapStorage, TensorDictReplayBuffer\n",
    "from torchrl.envs import (\n",
    "    Compose,\n",
    "    ExplorationType,\n",
    "    GrayScale,\n",
    "    InitTracker,\n",
    "    ObservationNorm,\n",
    "    Resize,\n",
    "    RewardScaling,\n",
    "    set_exploration_type,\n",
    "    StepCounter,\n",
    "    ToTensorImage,\n",
    "    TransformedEnv,\n",
    ")\n",
    "from torchrl.envs.libs.gym import GymEnv\n",
    "from torchrl.modules import ConvNet, EGreedyWrapper, LSTMModule, MLP, QValueModule\n",
    "from torchrl.objectives import DQNLoss, SoftUpdate\n",
    "\n",
    "device = torch.device(0) if torch.cuda.device_count() else torch.device(\"cpu\")"
   ],
   "metadata": {
    "collapsed": false,
    "ExecuteTime": {
     "end_time": "2023-12-10T18:05:46.813762478Z",
     "start_time": "2023-12-10T18:05:43.248735676Z"
    }
   },
   "id": "f3e368f7fc987912"
  },
  {
   "cell_type": "markdown",
   "source": [
    "# Environment"
   ],
   "metadata": {
    "collapsed": false
   },
   "id": "d4d38a62fbd6aa60"
  },
  {
   "cell_type": "code",
   "execution_count": 1,
   "outputs": [
    {
     "ename": "NameError",
     "evalue": "name 'TransformedEnv' is not defined",
     "output_type": "error",
     "traceback": [
      "\u001B[0;31m---------------------------------------------------------------------------\u001B[0m",
      "\u001B[0;31mNameError\u001B[0m                                 Traceback (most recent call last)",
      "Cell \u001B[0;32mIn[1], line 1\u001B[0m\n\u001B[0;32m----> 1\u001B[0m env \u001B[38;5;241m=\u001B[39m \u001B[43mTransformedEnv\u001B[49m(\n\u001B[1;32m      2\u001B[0m     GymEnv(\u001B[38;5;124m\"\u001B[39m\u001B[38;5;124mCartPole-v1\u001B[39m\u001B[38;5;124m\"\u001B[39m, from_pixels\u001B[38;5;241m=\u001B[39m\u001B[38;5;28;01mTrue\u001B[39;00m, device\u001B[38;5;241m=\u001B[39mdevice),\n\u001B[1;32m      3\u001B[0m     Compose(\n\u001B[1;32m      4\u001B[0m         ToTensorImage(),\n\u001B[1;32m      5\u001B[0m         GrayScale(),\n\u001B[1;32m      6\u001B[0m         Resize(\u001B[38;5;241m84\u001B[39m, \u001B[38;5;241m84\u001B[39m),\n\u001B[1;32m      7\u001B[0m         StepCounter(),\n\u001B[1;32m      8\u001B[0m         InitTracker(),\n\u001B[1;32m      9\u001B[0m         RewardScaling(loc\u001B[38;5;241m=\u001B[39m\u001B[38;5;241m0.0\u001B[39m, scale\u001B[38;5;241m=\u001B[39m\u001B[38;5;241m0.1\u001B[39m),\n\u001B[1;32m     10\u001B[0m         ObservationNorm(standard_normal\u001B[38;5;241m=\u001B[39m\u001B[38;5;28;01mTrue\u001B[39;00m, in_keys\u001B[38;5;241m=\u001B[39m[\u001B[38;5;124m\"\u001B[39m\u001B[38;5;124mpixels\u001B[39m\u001B[38;5;124m\"\u001B[39m]),\n\u001B[1;32m     11\u001B[0m     ),\n\u001B[1;32m     12\u001B[0m )\n",
      "\u001B[0;31mNameError\u001B[0m: name 'TransformedEnv' is not defined"
     ]
    }
   ],
   "source": [
    "env = TransformedEnv(\n",
    "    GymEnv(\"CartPole-v1\", from_pixels=True, device=device),\n",
    "    Compose(\n",
    "        ToTensorImage(),\n",
    "        GrayScale(),\n",
    "        Resize(84, 84),\n",
    "        StepCounter(),\n",
    "        InitTracker(),\n",
    "        RewardScaling(loc=0.0, scale=0.1),\n",
    "        ObservationNorm(standard_normal=True, in_keys=[\"pixels\"]),\n",
    "    ),\n",
    ")"
   ],
   "metadata": {
    "collapsed": false,
    "ExecuteTime": {
     "end_time": "2023-12-10T18:20:04.431827878Z",
     "start_time": "2023-12-10T18:20:04.205439880Z"
    }
   },
   "id": "5d3c5b86a2433db2"
  },
  {
   "cell_type": "code",
   "execution_count": 3,
   "outputs": [],
   "source": [
    "env.transform[-1].init_stats(1000, reduce_dim=[0, 1, 2], cat_dim=0, keep_dims=[0])\n",
    "td = env.reset()"
   ],
   "metadata": {
    "collapsed": false,
    "ExecuteTime": {
     "end_time": "2023-12-10T18:06:14.092485226Z",
     "start_time": "2023-12-10T18:06:09.577070473Z"
    }
   },
   "id": "3a31cd389383714f"
  },
  {
   "cell_type": "markdown",
   "source": [
    "# Policy"
   ],
   "metadata": {
    "collapsed": false
   },
   "id": "92f9393ed78ea82f"
  },
  {
   "cell_type": "code",
   "execution_count": 4,
   "outputs": [
    {
     "name": "stderr",
     "output_type": "stream",
     "text": [
      "/home/tikhon/PycharmProjects/RL/venv/lib/python3.9/site-packages/torch/nn/modules/lazy.py:180: UserWarning: Lazy modules are a new feature under heavy development so changes to the API or functionality can happen at any moment.\n",
      "  warnings.warn('Lazy modules are a new feature under heavy development '\n"
     ]
    }
   ],
   "source": [
    "feature = Mod(\n",
    "    ConvNet(\n",
    "        num_cells=[32, 32, 64],\n",
    "        squeeze_output=True,\n",
    "        aggregator_class=nn.AdaptiveAvgPool2d,\n",
    "        aggregator_kwargs={\"output_size\": (1, 1)},\n",
    "        device=device,\n",
    "    ),\n",
    "    in_keys=[\"pixels\"],\n",
    "    out_keys=[\"embed\"],\n",
    ")"
   ],
   "metadata": {
    "collapsed": false,
    "ExecuteTime": {
     "end_time": "2023-12-10T18:06:35.573460780Z",
     "start_time": "2023-12-10T18:06:35.538729245Z"
    }
   },
   "id": "662841317f332875"
  },
  {
   "cell_type": "code",
   "execution_count": 5,
   "outputs": [],
   "source": [
    "n_cells = feature(env.reset())[\"embed\"].shape[-1]"
   ],
   "metadata": {
    "collapsed": false,
    "ExecuteTime": {
     "end_time": "2023-12-10T18:07:28.055519418Z",
     "start_time": "2023-12-10T18:07:28.007966906Z"
    }
   },
   "id": "714aa903c1996a80"
  },
  {
   "cell_type": "code",
   "execution_count": 6,
   "outputs": [],
   "source": [
    "lstm = LSTMModule(\n",
    "    input_size=n_cells,\n",
    "    hidden_size=128,\n",
    "    device=device,\n",
    "    in_key=\"embed\",\n",
    "    out_key=\"embed\",\n",
    ")"
   ],
   "metadata": {
    "collapsed": false,
    "ExecuteTime": {
     "end_time": "2023-12-10T18:07:36.088449423Z",
     "start_time": "2023-12-10T18:07:36.044474676Z"
    }
   },
   "id": "116219150628434f"
  },
  {
   "cell_type": "code",
   "execution_count": 7,
   "outputs": [
    {
     "name": "stdout",
     "output_type": "stream",
     "text": [
      "in_keys ['embed', 'recurrent_state_h', 'recurrent_state_c', 'is_init']\n",
      "out_keys ['embed', ('next', 'recurrent_state_h'), ('next', 'recurrent_state_c')]\n"
     ]
    }
   ],
   "source": [
    "print(\"in_keys\", lstm.in_keys)\n",
    "print(\"out_keys\", lstm.out_keys)"
   ],
   "metadata": {
    "collapsed": false,
    "ExecuteTime": {
     "end_time": "2023-12-10T18:07:42.220098683Z",
     "start_time": "2023-12-10T18:07:42.196343766Z"
    }
   },
   "id": "53619e688d3be339"
  },
  {
   "cell_type": "code",
   "execution_count": 8,
   "outputs": [],
   "source": [
    "env.append_transform(lstm.make_tensordict_primer())"
   ],
   "metadata": {
    "collapsed": false,
    "ExecuteTime": {
     "end_time": "2023-12-10T18:07:58.711811231Z",
     "start_time": "2023-12-10T18:07:58.687177181Z"
    }
   },
   "id": "7b9a4d850a288a07"
  },
  {
   "cell_type": "code",
   "execution_count": 9,
   "outputs": [
    {
     "name": "stdout",
     "output_type": "stream",
     "text": [
      "TransformedEnv(\n",
      "    env=GymEnv(env=CartPole-v1, batch_size=torch.Size([]), device=cpu),\n",
      "    transform=Compose(\n",
      "            ToTensorImage(keys=['pixels']),\n",
      "            GrayScale(keys=['pixels']),\n",
      "            Resize(w=84, h=84, interpolation=InterpolationMode.BILINEAR, keys=['pixels']),\n",
      "            StepCounter(keys=[]),\n",
      "            InitTracker(keys=[]),\n",
      "            RewardScaling(loc=0.0000, scale=0.1000, keys=['reward']),\n",
      "            ObservationNorm(keys=['pixels']),\n",
      "            TensorDictPrimer(primers=CompositeSpec(\n",
      "                recurrent_state_h: UnboundedContinuousTensorSpec(\n",
      "                    shape=torch.Size([1, 128]),\n",
      "                    space=None,\n",
      "                    device=cpu,\n",
      "                    dtype=torch.float32,\n",
      "                    domain=continuous),\n",
      "                recurrent_state_c: UnboundedContinuousTensorSpec(\n",
      "                    shape=torch.Size([1, 128]),\n",
      "                    space=None,\n",
      "                    device=cpu,\n",
      "                    dtype=torch.float32,\n",
      "                    domain=continuous), device=cpu, shape=torch.Size([])), default_value=0.0, random=False)))\n"
     ]
    }
   ],
   "source": [
    "print(env)"
   ],
   "metadata": {
    "collapsed": false,
    "ExecuteTime": {
     "end_time": "2023-12-10T18:08:06.827415642Z",
     "start_time": "2023-12-10T18:08:06.798336676Z"
    }
   },
   "id": "439723777d6d0d68"
  },
  {
   "cell_type": "code",
   "execution_count": 10,
   "outputs": [],
   "source": [
    "mlp = MLP(\n",
    "    out_features=2,\n",
    "    num_cells=[\n",
    "        64,\n",
    "    ],\n",
    "    device=device,\n",
    ")"
   ],
   "metadata": {
    "collapsed": false,
    "ExecuteTime": {
     "end_time": "2023-12-10T18:08:41.744171674Z",
     "start_time": "2023-12-10T18:08:41.695863605Z"
    }
   },
   "id": "44964bf47d9bfc7"
  },
  {
   "cell_type": "code",
   "execution_count": 11,
   "outputs": [],
   "source": [
    "mlp[-1].bias.data.fill_(0.0)\n",
    "mlp = Mod(mlp, in_keys=[\"embed\"], out_keys=[\"action_value\"])"
   ],
   "metadata": {
    "collapsed": false,
    "ExecuteTime": {
     "end_time": "2023-12-10T18:08:49.690096744Z",
     "start_time": "2023-12-10T18:08:49.639069926Z"
    }
   },
   "id": "c8ea8d48511f1e4b"
  },
  {
   "cell_type": "code",
   "execution_count": 12,
   "outputs": [],
   "source": [
    "qval = QValueModule(action_space=env.action_spec)"
   ],
   "metadata": {
    "collapsed": false,
    "ExecuteTime": {
     "end_time": "2023-12-10T18:08:56.055243235Z",
     "start_time": "2023-12-10T18:08:56.008959652Z"
    }
   },
   "id": "83f1c00f4c0ae664"
  },
  {
   "cell_type": "code",
   "execution_count": 13,
   "outputs": [],
   "source": [
    "stoch_policy = Seq(feature, lstm, mlp, qval)"
   ],
   "metadata": {
    "collapsed": false,
    "ExecuteTime": {
     "end_time": "2023-12-10T18:09:01.369642371Z",
     "start_time": "2023-12-10T18:09:01.344131638Z"
    }
   },
   "id": "eb2d2b933b2ca232"
  },
  {
   "cell_type": "code",
   "execution_count": 14,
   "outputs": [],
   "source": [
    "stoch_policy = EGreedyWrapper(\n",
    "    stoch_policy, annealing_num_steps=1_000_000, spec=env.action_spec, eps_init=0.2\n",
    ")"
   ],
   "metadata": {
    "collapsed": false,
    "ExecuteTime": {
     "end_time": "2023-12-10T18:09:06.213445140Z",
     "start_time": "2023-12-10T18:09:06.191285517Z"
    }
   },
   "id": "7123a3f152228899"
  },
  {
   "cell_type": "code",
   "execution_count": 15,
   "outputs": [],
   "source": [
    "policy = Seq(feature, lstm.set_recurrent_mode(True), mlp, qval)\n"
   ],
   "metadata": {
    "collapsed": false,
    "ExecuteTime": {
     "end_time": "2023-12-10T18:09:12.118359416Z",
     "start_time": "2023-12-10T18:09:12.091415663Z"
    }
   },
   "id": "8961c3a16ab8b63"
  },
  {
   "cell_type": "code",
   "execution_count": 16,
   "outputs": [
    {
     "data": {
      "text/plain": "TensorDict(\n    fields={\n        action: Tensor(shape=torch.Size([2]), device=cpu, dtype=torch.int64, is_shared=False),\n        action_value: Tensor(shape=torch.Size([2]), device=cpu, dtype=torch.float32, is_shared=False),\n        chosen_action_value: Tensor(shape=torch.Size([1]), device=cpu, dtype=torch.float32, is_shared=False),\n        done: Tensor(shape=torch.Size([1]), device=cpu, dtype=torch.bool, is_shared=False),\n        embed: Tensor(shape=torch.Size([128]), device=cpu, dtype=torch.float32, is_shared=False),\n        is_init: Tensor(shape=torch.Size([1]), device=cpu, dtype=torch.bool, is_shared=False),\n        next: TensorDict(\n            fields={\n                recurrent_state_c: Tensor(shape=torch.Size([1, 128]), device=cpu, dtype=torch.float32, is_shared=False),\n                recurrent_state_h: Tensor(shape=torch.Size([1, 128]), device=cpu, dtype=torch.float32, is_shared=False)},\n            batch_size=torch.Size([]),\n            device=cpu,\n            is_shared=False),\n        pixels: Tensor(shape=torch.Size([1, 84, 84]), device=cpu, dtype=torch.float32, is_shared=False),\n        recurrent_state_c: Tensor(shape=torch.Size([1, 128]), device=cpu, dtype=torch.float32, is_shared=False),\n        recurrent_state_h: Tensor(shape=torch.Size([1, 128]), device=cpu, dtype=torch.float32, is_shared=False),\n        step_count: Tensor(shape=torch.Size([1]), device=cpu, dtype=torch.int64, is_shared=False),\n        terminated: Tensor(shape=torch.Size([1]), device=cpu, dtype=torch.bool, is_shared=False),\n        truncated: Tensor(shape=torch.Size([1]), device=cpu, dtype=torch.bool, is_shared=False)},\n    batch_size=torch.Size([]),\n    device=cpu,\n    is_shared=False)"
     },
     "execution_count": 16,
     "metadata": {},
     "output_type": "execute_result"
    }
   ],
   "source": [
    "policy(env.reset())"
   ],
   "metadata": {
    "collapsed": false,
    "ExecuteTime": {
     "end_time": "2023-12-10T18:09:18.308960892Z",
     "start_time": "2023-12-10T18:09:18.192763462Z"
    }
   },
   "id": "c735dc40f15bf5bd"
  },
  {
   "cell_type": "code",
   "execution_count": 17,
   "outputs": [],
   "source": [
    "loss_fn = DQNLoss(policy, action_space=env.action_spec, delay_value=True)\n"
   ],
   "metadata": {
    "collapsed": false,
    "ExecuteTime": {
     "end_time": "2023-12-10T18:09:33.839997353Z",
     "start_time": "2023-12-10T18:09:33.809319345Z"
    }
   },
   "id": "418a4fe2652d0a6f"
  },
  {
   "cell_type": "code",
   "execution_count": 18,
   "outputs": [],
   "source": [
    "updater = SoftUpdate(loss_fn, eps=0.95)\n",
    "\n",
    "optim = torch.optim.Adam(policy.parameters(), lr=3e-4)"
   ],
   "metadata": {
    "collapsed": false,
    "ExecuteTime": {
     "end_time": "2023-12-10T18:09:47.389502481Z",
     "start_time": "2023-12-10T18:09:47.341155164Z"
    }
   },
   "id": "37c0f514872c8c53"
  },
  {
   "cell_type": "code",
   "execution_count": 19,
   "outputs": [],
   "source": [
    "collector = SyncDataCollector(env, stoch_policy, frames_per_batch=50, total_frames=200)\n",
    "rb = TensorDictReplayBuffer(\n",
    "    storage=LazyMemmapStorage(20_000), batch_size=4, prefetch=10\n",
    ")"
   ],
   "metadata": {
    "collapsed": false,
    "ExecuteTime": {
     "end_time": "2023-12-10T18:09:56.369865782Z",
     "start_time": "2023-12-10T18:09:56.255492550Z"
    }
   },
   "id": "87949841075fe45"
  },
  {
   "cell_type": "code",
   "execution_count": 20,
   "outputs": [
    {
     "name": "stderr",
     "output_type": "stream",
     "text": [
      "  0%|          | 50/1000000 [00:00<4:24:59, 62.89it/s]"
     ]
    },
    {
     "name": "stdout",
     "output_type": "stream",
     "text": [
      "Let us print the first batch of data.\n",
      "Pay attention to the key names which will reflect what can be found in this data structure, in particular: the output of the QValueModule (action_values, action and chosen_action_value),the 'is_init' key that will tell us if a step is initial or not, and the recurrent_state keys.\n",
      " TensorDict(\n",
      "    fields={\n",
      "        action: Tensor(shape=torch.Size([50, 2]), device=cpu, dtype=torch.int64, is_shared=False),\n",
      "        collector: TensorDict(\n",
      "            fields={\n",
      "                traj_ids: Tensor(shape=torch.Size([50]), device=cpu, dtype=torch.int64, is_shared=False)},\n",
      "            batch_size=torch.Size([50]),\n",
      "            device=cpu,\n",
      "            is_shared=False),\n",
      "        done: Tensor(shape=torch.Size([50, 1]), device=cpu, dtype=torch.bool, is_shared=False),\n",
      "        is_init: Tensor(shape=torch.Size([50, 1]), device=cpu, dtype=torch.bool, is_shared=False),\n",
      "        next: TensorDict(\n",
      "            fields={\n",
      "                done: Tensor(shape=torch.Size([50, 1]), device=cpu, dtype=torch.bool, is_shared=False),\n",
      "                is_init: Tensor(shape=torch.Size([50, 1]), device=cpu, dtype=torch.bool, is_shared=False),\n",
      "                pixels: Tensor(shape=torch.Size([50, 1, 84, 84]), device=cpu, dtype=torch.float32, is_shared=False),\n",
      "                recurrent_state_c: Tensor(shape=torch.Size([50, 1, 128]), device=cpu, dtype=torch.float32, is_shared=False),\n",
      "                recurrent_state_h: Tensor(shape=torch.Size([50, 1, 128]), device=cpu, dtype=torch.float32, is_shared=False),\n",
      "                reward: Tensor(shape=torch.Size([50, 1]), device=cpu, dtype=torch.float32, is_shared=False),\n",
      "                step_count: Tensor(shape=torch.Size([50, 1]), device=cpu, dtype=torch.int64, is_shared=False),\n",
      "                terminated: Tensor(shape=torch.Size([50, 1]), device=cpu, dtype=torch.bool, is_shared=False),\n",
      "                truncated: Tensor(shape=torch.Size([50, 1]), device=cpu, dtype=torch.bool, is_shared=False)},\n",
      "            batch_size=torch.Size([50]),\n",
      "            device=cpu,\n",
      "            is_shared=False),\n",
      "        pixels: Tensor(shape=torch.Size([50, 1, 84, 84]), device=cpu, dtype=torch.float32, is_shared=False),\n",
      "        recurrent_state_c: Tensor(shape=torch.Size([50, 1, 128]), device=cpu, dtype=torch.float32, is_shared=False),\n",
      "        recurrent_state_h: Tensor(shape=torch.Size([50, 1, 128]), device=cpu, dtype=torch.float32, is_shared=False),\n",
      "        step_count: Tensor(shape=torch.Size([50, 1]), device=cpu, dtype=torch.int64, is_shared=False),\n",
      "        terminated: Tensor(shape=torch.Size([50, 1]), device=cpu, dtype=torch.bool, is_shared=False),\n",
      "        truncated: Tensor(shape=torch.Size([50, 1]), device=cpu, dtype=torch.bool, is_shared=False)},\n",
      "    batch_size=torch.Size([50]),\n",
      "    device=cpu,\n",
      "    is_shared=False)\n"
     ]
    },
    {
     "name": "stderr",
     "output_type": "stream",
     "text": [
      "steps: 15, loss_val:  0.0005, action_spread: tensor([ 7, 43]):   0%|          | 200/1000000 [02:39<187:00:42,  1.49it/s]"
     ]
    }
   ],
   "source": [
    "utd = 16\n",
    "pbar = tqdm.tqdm(total=1_000_000)\n",
    "longest = 0\n",
    "\n",
    "traj_lens = []\n",
    "for i, data in enumerate(collector):\n",
    "    if i == 0:\n",
    "        print(\n",
    "            \"Let us print the first batch of data.\\nPay attention to the key names \"\n",
    "            \"which will reflect what can be found in this data structure, in particular: \"\n",
    "            \"the output of the QValueModule (action_values, action and chosen_action_value),\"\n",
    "            \"the 'is_init' key that will tell us if a step is initial or not, and the \"\n",
    "            \"recurrent_state keys.\\n\",\n",
    "            data,\n",
    "        )\n",
    "    pbar.update(data.numel())\n",
    "    # it is important to pass data that is not flattened\n",
    "    rb.extend(data.unsqueeze(0).to_tensordict().cpu())\n",
    "    for _ in range(utd):\n",
    "        s = rb.sample().to(device, non_blocking=True)\n",
    "        loss_vals = loss_fn(s)\n",
    "        loss_vals[\"loss\"].backward()\n",
    "        optim.step()\n",
    "        optim.zero_grad()\n",
    "    longest = max(longest, data[\"step_count\"].max().item())\n",
    "    pbar.set_description(\n",
    "        f\"steps: {longest}, loss_val: {loss_vals['loss'].item(): 4.4f}, action_spread: {data['action'].sum(0)}\"\n",
    "    )\n",
    "    stoch_policy.step(data.numel())\n",
    "    updater.step()\n",
    "\n",
    "    with set_exploration_type(ExplorationType.MODE), torch.no_grad():\n",
    "        rollout = env.rollout(10000, stoch_policy)\n",
    "        traj_lens.append(rollout.get((\"next\", \"step_count\")).max().item())"
   ],
   "metadata": {
    "collapsed": false,
    "ExecuteTime": {
     "end_time": "2023-12-10T18:13:07.995515587Z",
     "start_time": "2023-12-10T18:10:28.027484097Z"
    }
   },
   "id": "1f0096968e818299"
  },
  {
   "cell_type": "code",
   "execution_count": 21,
   "outputs": [
    {
     "data": {
      "text/plain": "<Figure size 640x480 with 1 Axes>",
      "image/png": "[encoded data removed]"
     },
     "metadata": {},
     "output_type": "display_data"
    }
   ],
   "source": [
    "if traj_lens:\n",
    "    from matplotlib import pyplot as plt\n",
    "\n",
    "    plt.plot(traj_lens)\n",
    "    plt.xlabel(\"Test collection\")\n",
    "    plt.title(\"Test trajectory lengths\")"
   ],
   "metadata": {
    "collapsed": false,
    "ExecuteTime": {
     "end_time": "2023-12-10T18:13:19.634927631Z",
     "start_time": "2023-12-10T18:13:19.072734562Z"
    }
   },
   "id": "964764b926b19f0e"
  },
  {
   "cell_type": "code",
   "execution_count": 22,
   "outputs": [
    {
     "data": {
      "text/plain": "TensorDict(\n    fields={\n        action: Tensor(shape=torch.Size([4, 50, 2]), device=cpu, dtype=torch.int64, is_shared=False),\n        collector: TensorDict(\n            fields={\n                traj_ids: Tensor(shape=torch.Size([4, 50]), device=cpu, dtype=torch.int64, is_shared=False)},\n            batch_size=torch.Size([4, 50]),\n            device=cpu,\n            is_shared=False),\n        done: Tensor(shape=torch.Size([4, 50, 1]), device=cpu, dtype=torch.bool, is_shared=False),\n        index: Tensor(shape=torch.Size([4, 50]), device=cpu, dtype=torch.int64, is_shared=False),\n        is_init: Tensor(shape=torch.Size([4, 50, 1]), device=cpu, dtype=torch.bool, is_shared=False),\n        next: TensorDict(\n            fields={\n                done: Tensor(shape=torch.Size([4, 50, 1]), device=cpu, dtype=torch.bool, is_shared=False),\n                is_init: Tensor(shape=torch.Size([4, 50, 1]), device=cpu, dtype=torch.bool, is_shared=False),\n                pixels: Tensor(shape=torch.Size([4, 50, 1, 84, 84]), device=cpu, dtype=torch.float32, is_shared=False),\n                recurrent_state_c: Tensor(shape=torch.Size([4, 50, 1, 128]), device=cpu, dtype=torch.float32, is_shared=False),\n                recurrent_state_h: Tensor(shape=torch.Size([4, 50, 1, 128]), device=cpu, dtype=torch.float32, is_shared=False),\n                reward: Tensor(shape=torch.Size([4, 50, 1]), device=cpu, dtype=torch.float32, is_shared=False),\n                step_count: Tensor(shape=torch.Size([4, 50, 1]), device=cpu, dtype=torch.int64, is_shared=False),\n                terminated: Tensor(shape=torch.Size([4, 50, 1]), device=cpu, dtype=torch.bool, is_shared=False),\n                truncated: Tensor(shape=torch.Size([4, 50, 1]), device=cpu, dtype=torch.bool, is_shared=False)},\n            batch_size=torch.Size([4, 50]),\n            device=cpu,\n            is_shared=False),\n        pixels: Tensor(shape=torch.Size([4, 50, 1, 84, 84]), device=cpu, dtype=torch.float32, is_shared=False),\n        recurrent_state_c: Tensor(shape=torch.Size([4, 50, 1, 128]), device=cpu, dtype=torch.float32, is_shared=False),\n        recurrent_state_h: Tensor(shape=torch.Size([4, 50, 1, 128]), device=cpu, dtype=torch.float32, is_shared=False),\n        step_count: Tensor(shape=torch.Size([4, 50, 1]), device=cpu, dtype=torch.int64, is_shared=False),\n        terminated: Tensor(shape=torch.Size([4, 50, 1]), device=cpu, dtype=torch.bool, is_shared=False),\n        truncated: Tensor(shape=torch.Size([4, 50, 1]), device=cpu, dtype=torch.bool, is_shared=False)},\n    batch_size=torch.Size([4, 50]),\n    device=cpu,\n    is_shared=False)"
     },
     "execution_count": 22,
     "metadata": {},
     "output_type": "execute_result"
    }
   ],
   "source": [
    "rb.sample().to(device, non_blocking=True)"
   ],
   "metadata": {
    "collapsed": false,
    "ExecuteTime": {
     "end_time": "2023-12-10T18:16:21.692104194Z",
     "start_time": "2023-12-10T18:16:21.633846697Z"
    }
   },
   "id": "8704e4dd5d379e4c"
  },
  {
   "cell_type": "code",
   "execution_count": null,
   "outputs": [],
   "source": [],
   "metadata": {
    "collapsed": false
   },
   "id": "b78e05fae95f8f75"
  }
 ],
 "metadata": {
  "kernelspec": {
   "display_name": "Python 3",
   "language": "python",
   "name": "python3"
  },
  "language_info": {
   "codemirror_mode": {
    "name": "ipython",
    "version": 2
   },
   "file_extension": ".py",
   "mimetype": "text/x-python",
   "name": "python",
   "nbconvert_exporter": "python",
   "pygments_lexer": "ipython2",
   "version": "2.7.6"
  }
 },
 "nbformat": 4,
 "nbformat_minor": 5
}
